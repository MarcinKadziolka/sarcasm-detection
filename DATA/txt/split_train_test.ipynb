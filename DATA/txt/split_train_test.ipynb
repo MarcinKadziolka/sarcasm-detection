{
 "cells": [
  {
   "cell_type": "code",
   "execution_count": 2,
   "metadata": {},
   "outputs": [],
   "source": [
    "with open('./headlines_clean.txt', 'r') as f:\n",
    "    train = open('./headline_train.txt', 'w')\n",
    "    test = open('./headline_test.txt', 'w')\n",
    "    val = open('./headline_val.txt', 'w')\n",
    "    counter = 0\n",
    "    for r in f.readlines():\n",
    "        if counter < int(26709*0.8):\n",
    "            train.write(r)\n",
    "        elif counter > int(26709*0.8) and counter < int(26709*0.9):\n",
    "            val.write(r)\n",
    "        else:\n",
    "            test.write(r)\n",
    "        counter+=1\n",
    "    train.close(); test.close(); val.close()"
   ]
  },
  {
   "cell_type": "code",
   "execution_count": null,
   "metadata": {},
   "outputs": [],
   "source": []
  }
 ],
 "metadata": {
  "kernelspec": {
   "display_name": "Python 2",
   "language": "python",
   "name": "python2"
  },
  "language_info": {
   "codemirror_mode": {
    "name": "ipython",
    "version": 2
   },
   "file_extension": ".py",
   "mimetype": "text/x-python",
   "name": "python",
   "nbconvert_exporter": "python",
   "pygments_lexer": "ipython2",
   "version": "2.7.14"
  }
 },
 "nbformat": 4,
 "nbformat_minor": 2
}
